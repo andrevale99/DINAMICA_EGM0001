{
 "cells": [
  {
   "cell_type": "markdown",
   "id": "0d9fe801",
   "metadata": {},
   "source": [
    "# Representação DH do braço"
   ]
  },
  {
   "cell_type": "markdown",
   "id": "72b54af6",
   "metadata": {},
   "source": [
    "imagem da representação do braço"
   ]
  },
  {
   "cell_type": "code",
   "execution_count": null,
   "id": "4b706003",
   "metadata": {
    "vscode": {
     "languageId": "plaintext"
    }
   },
   "outputs": [],
   "source": [
    "import numpy as np"
   ]
  }
 ],
 "metadata": {
  "language_info": {
   "name": "python"
  }
 },
 "nbformat": 4,
 "nbformat_minor": 5
}
